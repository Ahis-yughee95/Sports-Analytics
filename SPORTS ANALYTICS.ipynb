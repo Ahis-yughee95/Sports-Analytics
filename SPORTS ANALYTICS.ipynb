{
 "cells": [
  {
   "cell_type": "markdown",
   "id": "ded4de8b-3aa7-4113-aee3-4a58082c548f",
   "metadata": {},
   "source": [
    "# Import Libraries"
   ]
  },
  {
   "cell_type": "code",
   "execution_count": 1,
   "id": "632d00d4",
   "metadata": {
    "scrolled": true
   },
   "outputs": [],
   "source": [
    "import pandas as pd\n",
    "import numpy as np\n",
    "import matplotlib.pyplot as plt\n",
    "import matplotlib\n",
    "\n",
    "import sklearn\n",
    "from sklearn.linear_model import LinearRegression  #This is where the linear regression takes place"
   ]
  },
  {
   "cell_type": "markdown",
   "id": "0a340f48-7def-4ac8-bfff-eef251827199",
   "metadata": {},
   "source": [
    "# Loading Dataset"
   ]
  },
  {
   "cell_type": "code",
   "execution_count": 2,
   "id": "317acd28",
   "metadata": {},
   "outputs": [],
   "source": [
    "brisbane_data_2003 = pd.read_excel('BrisbaneScores2003.xlsx')\n",
    "portadelaide_data_2003 = pd.read_excel('PortAdelaideScores2003.xlsx')\n",
    "\n",
    "brisbane_data_2004 = pd.read_csv('BrisbaneScores2004.csv')\n",
    "portadelaide_data_2004 = pd.read_csv('PortAdelaideScores2004.csv')"
   ]
  },
  {
   "cell_type": "code",
   "execution_count": 3,
   "id": "78fe4fd7-c9f3-4b02-b830-a7e2987260d6",
   "metadata": {},
   "outputs": [
    {
     "name": "stdout",
     "output_type": "stream",
     "text": [
      "Combined Brisbane Data:\n",
      "   Round      Home Team  Home Team Score         Away Team  Away Team Score\n",
      "0      1       Brisbane              104          Essendon               61\n",
      "1      2  Port Adelaide               76          Brisbane               86\n",
      "2      3      Kangaroos              109          Brisbane              109\n",
      "3      4       Brisbane               95       Collingwood               81\n",
      "4      5       Brisbane              106  Western Bulldogs               79\n",
      "\n",
      "Combined Port Adelaide Data:\n",
      "   Round      Home Team  Home Team Score      Away Team  Away Team Score\n",
      "0      1     West Coast              122  Port Adelaide               74\n",
      "1      2  Port Adelaide               76       Brisbane               86\n",
      "2      3  Port Adelaide              128       Hawthorn               71\n",
      "3      4        Carlton               84  Port Adelaide              114\n",
      "4      5       Adelaide               66  Port Adelaide               78\n"
     ]
    }
   ],
   "source": [
    "# Concatenate Brisbane dataframes vertically\n",
    "brisbane_data = pd.concat([brisbane_data_2003, brisbane_data_2004], ignore_index=True)\n",
    "\n",
    "# Concatenate Port Adelaide dataframes vertically\n",
    "portadelaide_data = pd.concat([portadelaide_data_2003, portadelaide_data_2004], ignore_index=True)\n",
    "\n",
    "# Optionally, you can reset the index after concatenation\n",
    "brisbane_data.reset_index(drop=True, inplace=True)\n",
    "portadelaide_data.reset_index(drop=True, inplace=True)\n",
    "\n",
    "# Print the first few rows of the combined dataframes to verify\n",
    "print(\"Combined Brisbane Data:\")\n",
    "print(brisbane_data.head())\n",
    "\n",
    "print(\"\\nCombined Port Adelaide Data:\")\n",
    "print(portadelaide_data.head())\n"
   ]
  },
  {
   "cell_type": "code",
   "execution_count": 4,
   "id": "fae01e50-a428-4f71-a764-4ba0663ae3fa",
   "metadata": {},
   "outputs": [],
   "source": [
    "def edit_columns_(df):\n",
    "    # Loop through columns\n",
    "    for column in df.columns:\n",
    "        # Replace spaces with underscores and convert to lower case\n",
    "        new_column_name = column.replace(' ', '_').lower()\n",
    "        # Rename the column in the DataFrame\n",
    "        df.rename(columns={column: new_column_name}, inplace=True)\n",
    "    return df"
   ]
  },
  {
   "cell_type": "code",
   "execution_count": 5,
   "id": "b4651db5-00b1-4c11-898f-ac03eaf78aea",
   "metadata": {},
   "outputs": [
    {
     "data": {
      "text/plain": [
       "Index(['round', 'home_team', 'home_team_score', 'away_team',\n",
       "       'away_team_score'],\n",
       "      dtype='object')"
      ]
     },
     "execution_count": 5,
     "metadata": {},
     "output_type": "execute_result"
    }
   ],
   "source": [
    "brisbane_data = edit_columns_(brisbane_data)\n",
    "brisbane_data.columns"
   ]
  },
  {
   "cell_type": "code",
   "execution_count": 6,
   "id": "976332c3-1ea1-47f5-8656-50ca1c1117ea",
   "metadata": {},
   "outputs": [
    {
     "data": {
      "text/plain": [
       "Index(['round', 'home_team', 'home_team_score', 'away_team',\n",
       "       'away_team_score'],\n",
       "      dtype='object')"
      ]
     },
     "execution_count": 6,
     "metadata": {},
     "output_type": "execute_result"
    }
   ],
   "source": [
    "portadelaide_data = edit_columns_(portadelaide_data)\n",
    "portadelaide_data.columns"
   ]
  },
  {
   "cell_type": "code",
   "execution_count": 7,
   "id": "f75cf910",
   "metadata": {
    "scrolled": true
   },
   "outputs": [
    {
     "data": {
      "text/html": [
       "<div>\n",
       "<style scoped>\n",
       "    .dataframe tbody tr th:only-of-type {\n",
       "        vertical-align: middle;\n",
       "    }\n",
       "\n",
       "    .dataframe tbody tr th {\n",
       "        vertical-align: top;\n",
       "    }\n",
       "\n",
       "    .dataframe thead th {\n",
       "        text-align: right;\n",
       "    }\n",
       "</style>\n",
       "<table border=\"1\" class=\"dataframe\">\n",
       "  <thead>\n",
       "    <tr style=\"text-align: right;\">\n",
       "      <th></th>\n",
       "      <th>round</th>\n",
       "      <th>home_team</th>\n",
       "      <th>home_team_score</th>\n",
       "      <th>away_team</th>\n",
       "      <th>away_team_score</th>\n",
       "    </tr>\n",
       "  </thead>\n",
       "  <tbody>\n",
       "    <tr>\n",
       "      <th>0</th>\n",
       "      <td>1</td>\n",
       "      <td>Brisbane</td>\n",
       "      <td>104</td>\n",
       "      <td>Essendon</td>\n",
       "      <td>61</td>\n",
       "    </tr>\n",
       "    <tr>\n",
       "      <th>1</th>\n",
       "      <td>2</td>\n",
       "      <td>Port Adelaide</td>\n",
       "      <td>76</td>\n",
       "      <td>Brisbane</td>\n",
       "      <td>86</td>\n",
       "    </tr>\n",
       "    <tr>\n",
       "      <th>2</th>\n",
       "      <td>3</td>\n",
       "      <td>Kangaroos</td>\n",
       "      <td>109</td>\n",
       "      <td>Brisbane</td>\n",
       "      <td>109</td>\n",
       "    </tr>\n",
       "    <tr>\n",
       "      <th>3</th>\n",
       "      <td>4</td>\n",
       "      <td>Brisbane</td>\n",
       "      <td>95</td>\n",
       "      <td>Collingwood</td>\n",
       "      <td>81</td>\n",
       "    </tr>\n",
       "    <tr>\n",
       "      <th>4</th>\n",
       "      <td>5</td>\n",
       "      <td>Brisbane</td>\n",
       "      <td>106</td>\n",
       "      <td>Western Bulldogs</td>\n",
       "      <td>79</td>\n",
       "    </tr>\n",
       "  </tbody>\n",
       "</table>\n",
       "</div>"
      ],
      "text/plain": [
       "   round      home_team  home_team_score         away_team  away_team_score\n",
       "0      1       Brisbane              104          Essendon               61\n",
       "1      2  Port Adelaide               76          Brisbane               86\n",
       "2      3      Kangaroos              109          Brisbane              109\n",
       "3      4       Brisbane               95       Collingwood               81\n",
       "4      5       Brisbane              106  Western Bulldogs               79"
      ]
     },
     "execution_count": 7,
     "metadata": {},
     "output_type": "execute_result"
    }
   ],
   "source": [
    "brisbane_data.head()"
   ]
  },
  {
   "cell_type": "code",
   "execution_count": 8,
   "id": "825bcb0e-bc86-4744-92c0-cd4ad305c5ee",
   "metadata": {},
   "outputs": [
    {
     "data": {
      "text/html": [
       "<div>\n",
       "<style scoped>\n",
       "    .dataframe tbody tr th:only-of-type {\n",
       "        vertical-align: middle;\n",
       "    }\n",
       "\n",
       "    .dataframe tbody tr th {\n",
       "        vertical-align: top;\n",
       "    }\n",
       "\n",
       "    .dataframe thead th {\n",
       "        text-align: right;\n",
       "    }\n",
       "</style>\n",
       "<table border=\"1\" class=\"dataframe\">\n",
       "  <thead>\n",
       "    <tr style=\"text-align: right;\">\n",
       "      <th></th>\n",
       "      <th>round</th>\n",
       "      <th>home_team</th>\n",
       "      <th>home_team_score</th>\n",
       "      <th>away_team</th>\n",
       "      <th>away_team_score</th>\n",
       "    </tr>\n",
       "  </thead>\n",
       "  <tbody>\n",
       "    <tr>\n",
       "      <th>0</th>\n",
       "      <td>1</td>\n",
       "      <td>West Coast</td>\n",
       "      <td>122</td>\n",
       "      <td>Port Adelaide</td>\n",
       "      <td>74</td>\n",
       "    </tr>\n",
       "    <tr>\n",
       "      <th>1</th>\n",
       "      <td>2</td>\n",
       "      <td>Port Adelaide</td>\n",
       "      <td>76</td>\n",
       "      <td>Brisbane</td>\n",
       "      <td>86</td>\n",
       "    </tr>\n",
       "    <tr>\n",
       "      <th>2</th>\n",
       "      <td>3</td>\n",
       "      <td>Port Adelaide</td>\n",
       "      <td>128</td>\n",
       "      <td>Hawthorn</td>\n",
       "      <td>71</td>\n",
       "    </tr>\n",
       "    <tr>\n",
       "      <th>3</th>\n",
       "      <td>4</td>\n",
       "      <td>Carlton</td>\n",
       "      <td>84</td>\n",
       "      <td>Port Adelaide</td>\n",
       "      <td>114</td>\n",
       "    </tr>\n",
       "    <tr>\n",
       "      <th>4</th>\n",
       "      <td>5</td>\n",
       "      <td>Adelaide</td>\n",
       "      <td>66</td>\n",
       "      <td>Port Adelaide</td>\n",
       "      <td>78</td>\n",
       "    </tr>\n",
       "  </tbody>\n",
       "</table>\n",
       "</div>"
      ],
      "text/plain": [
       "   round      home_team  home_team_score      away_team  away_team_score\n",
       "0      1     West Coast              122  Port Adelaide               74\n",
       "1      2  Port Adelaide               76       Brisbane               86\n",
       "2      3  Port Adelaide              128       Hawthorn               71\n",
       "3      4        Carlton               84  Port Adelaide              114\n",
       "4      5       Adelaide               66  Port Adelaide               78"
      ]
     },
     "execution_count": 8,
     "metadata": {},
     "output_type": "execute_result"
    }
   ],
   "source": [
    "portadelaide_data.head()"
   ]
  },
  {
   "cell_type": "markdown",
   "id": "1c5647cf-2a0b-4a66-9b89-9466ffed34f5",
   "metadata": {},
   "source": [
    "# Points difference for Brisbane and Adelaide in each match."
   ]
  },
  {
   "cell_type": "code",
   "execution_count": 28,
   "id": "50f0770d",
   "metadata": {},
   "outputs": [],
   "source": [
    "# Initialize empty lists\n",
    "bpd = []\n",
    "apd = []\n",
    "#rounds = [1,2,3,4,5,6,7,8,9,10,11,12,13,14,15,16,17,18,19,20,21,22] #list of rounds of matches\n",
    "\n",
    "# Converting the datasets to lists\n",
    "brisbanelist = brisbane_data.values.tolist()\n",
    "portadelaidelist = portadelaide_data.values.tolist()"
   ]
  },
  {
   "cell_type": "markdown",
   "id": "ea909f17-8d65-49e7-99e3-42f9508bcfad",
   "metadata": {},
   "source": [
    "## Analysis of Brisbane's performance in home and away matches, showing the points difference and the number of wins and losses."
   ]
  },
  {
   "cell_type": "code",
   "execution_count": 10,
   "id": "e36d5277-566c-4c6b-8f2f-ca3910ea02e8",
   "metadata": {},
   "outputs": [
    {
     "name": "stdout",
     "output_type": "stream",
     "text": [
      "[2, 'Port Adelaide', 76, 'Brisbane', 86]\n",
      "Brisbane\n",
      "104\n",
      "61\n"
     ]
    }
   ],
   "source": [
    "print(brisbanelist[1])\n",
    "print(brisbanelist[0][1])\n",
    "print(brisbanelist[0][2])\n",
    "print(brisbanelist[0][4])"
   ]
  },
  {
   "cell_type": "code",
   "execution_count": 43,
   "id": "4846c452-9049-4cc9-bb39-49c9d07e56a6",
   "metadata": {},
   "outputs": [
    {
     "name": "stdout",
     "output_type": "stream",
     "text": [
      "Points Difference: [43, 10, 0, 14, 27, 14, -19, 18, 77, 60, -5, -69, 43, -3, 12, -8, -1, 54, 39, -14, 37, 84, 2, 21, 60, -3, -48, -1, 44, 38, -59, 40, 37, 66, -27, 18, 68, 36, 141, -32, -14, 23, 45, 113]\n",
      "\n",
      "\n",
      "Home Wins for Brisbane: 17\n",
      "Home Losses for Brisbane: 4\n",
      "Home Draws for Brisbane: 0\n",
      "\n",
      "\n",
      "Away Wins for Brisbane: 12\n",
      "Away Losses for Brisbane: 10\n",
      "Away Draws for Brisbane: 1\n"
     ]
    }
   ],
   "source": [
    "# Initialize variables to count home wins, losses, and draws for Brisbane Lions\n",
    "bhome_win_count = 0\n",
    "bhome_loss_count = 0\n",
    "bhome_draw_count = 0\n",
    "\n",
    "# Initialize variables to count away wins, losses, and draws for Brisbane Lions\n",
    "baway_win_count = 0\n",
    "baway_loss_count = 0\n",
    "baway_draw_count = 0\n",
    "\n",
    "# Initialize line count to iterate through the dataset\n",
    "line_count = 0\n",
    "\n",
    "# Initialize list to store points differences\n",
    "bpd = []\n",
    "\n",
    "# Loop through each match (assuming there are 44 matches)\n",
    "while line_count < 44:\n",
    "    try:\n",
    "        # Check if the home team in the current match is \"Brisbane\"\n",
    "        if brisbanelist[line_count][1] == \"Brisbane\":\n",
    "            # Calculate points difference for home matches and append to the list\n",
    "            home_difference = brisbanelist[line_count][2] - brisbanelist[line_count][4]\n",
    "            bpd.append(home_difference)\n",
    "            # Update counts for home wins, losses, and draws\n",
    "            if home_difference > 0:\n",
    "                bhome_win_count += 1\n",
    "            elif home_difference < 0:\n",
    "                bhome_loss_count += 1\n",
    "            else:\n",
    "                bhome_draw_count += 1\n",
    "        else:\n",
    "            # Calculate points difference for away matches\n",
    "            away_difference = brisbanelist[line_count][4] - brisbanelist[line_count][2]\n",
    "            bpd.append(away_difference)\n",
    "            # Update counts for away wins, losses, and draws\n",
    "            if away_difference > 0:\n",
    "                baway_win_count += 1\n",
    "            elif away_difference < 0:\n",
    "                baway_loss_count += 1\n",
    "            else:\n",
    "                baway_draw_count += 1\n",
    "        line_count += 1\n",
    "    except IndexError:\n",
    "        # Handle IndexError (index out of range)\n",
    "        print(\"Error: Index out of range. Check the data format.\")\n",
    "        break\n",
    "    except Exception as e:\n",
    "        # Handle other exceptions\n",
    "        print(f\"An error occurred: {e}\")\n",
    "        break\n",
    "\n",
    "# Print the points difference list and counts of home and away wins, losses, and draws for Brisbane Lions\n",
    "print(\"Points Difference:\", bpd)\n",
    "print('\\n')\n",
    "print('Home Wins for Brisbane:', bhome_win_count)\n",
    "print('Home Losses for Brisbane:', bhome_loss_count)\n",
    "print('Home Draws for Brisbane:', bhome_draw_count)\n",
    "print('\\n')\n",
    "print('Away Wins for Brisbane:', baway_win_count)\n",
    "print('Away Losses for Brisbane:', baway_loss_count)\n",
    "print('Away Draws for Brisbane:', baway_draw_count)\n"
   ]
  },
  {
   "cell_type": "code",
   "execution_count": 12,
   "id": "fd024a1d-9f97-444d-92bf-6c0bb8eb1f32",
   "metadata": {},
   "outputs": [
    {
     "name": "stdout",
     "output_type": "stream",
     "text": [
      "Home Points Difference: [43, 14, 27, 18, -69, 43, 12, -1, 54, -14, 37, 2, 60, 38, 37, 18, 68, 141, -14, 45, 113]\n",
      "Away Points Difference: [10, 0, 14, -19, 77, 60, -5, -3, -8, 39, 84, 21, -3, -48, -1, 44, -59, 40, 66, -27, 36, -32, 23]\n"
     ]
    }
   ],
   "source": [
    "b_home_points_difference = []\n",
    "b_away_points_difference = []\n",
    "\n",
    "# Iterate through each match\n",
    "for match in range(len(brisbane_data)):\n",
    "    # Check if Brisbane Lions is the home team\n",
    "    if brisbane_data.iloc[match]['home_team'] == 'Brisbane':\n",
    "        # Calculate home points difference\n",
    "        home_difference = brisbane_data.iloc[match]['home_team_score'] - brisbane_data.iloc[match]['away_team_score']\n",
    "        b_home_points_difference.append(home_difference)\n",
    "    else:\n",
    "        # Calculate away points difference\n",
    "        away_difference = brisbane_data.iloc[match]['away_team_score'] - brisbane_data.iloc[match]['home_team_score']\n",
    "        b_away_points_difference.append(away_difference)\n",
    "\n",
    "# Print out home and away points difference separately\n",
    "print(\"Home Points Difference:\", b_home_points_difference)\n",
    "print(\"Away Points Difference:\", b_away_points_difference)\n"
   ]
  },
  {
   "cell_type": "code",
   "execution_count": 45,
   "id": "dfc8213a-847b-4148-adbb-79d8339b9cfe",
   "metadata": {},
   "outputs": [
    {
     "name": "stdout",
     "output_type": "stream",
     "text": [
      "Away Points when Brisbane Lions wins: [10, 14, 77, 60, 39, 84, 21, 44, 40, 66, 36, 23]\n",
      "Away Points when Brisbane Lions loses: [-19, -5, -3, -8, -3, -48, -1, -59, -27, -32]\n",
      "Away Points when Brisbane Lions draws: [0]\n",
      "\n",
      "\n",
      "Home Points when Brisbane Lions wins: [43, 14, 27, 18, 43, 12, 54, 37, 2, 60, 38, 37, 18, 68, 141, 45, 113]\n",
      "Home Points when Brisbane Lions loses: [-69, -1, -14, -14]\n",
      "Home Points when Brisbane Lions draws: []\n"
     ]
    }
   ],
   "source": [
    "b_home_points_wins = []\n",
    "b_home_points_losses = []\n",
    "b_home_points_draws = []\n",
    "\n",
    "b_away_points_wins = []\n",
    "b_away_points_losses = []\n",
    "b_away_points_draws = []\n",
    "\n",
    "# Iterate through each match\n",
    "for match in range(len(brisbane_data)):\n",
    "    # Check if Brisbane Lions is the home team\n",
    "    if brisbane_data.iloc[match]['home_team'] == 'Brisbane':\n",
    "        # Calculate home points difference\n",
    "        home_difference = brisbane_data.iloc[match]['home_team_score'] - brisbane_data.iloc[match]['away_team_score']\n",
    "        if home_difference > 0:\n",
    "            b_home_points_wins.append(home_difference)\n",
    "        elif home_difference < 0:\n",
    "            b_home_points_losses.append(home_difference)\n",
    "        else:\n",
    "            b_home_points_draws.append(home_difference)\n",
    "    else:\n",
    "        # Calculate away points difference\n",
    "        away_difference = brisbane_data.iloc[match]['away_team_score'] - brisbane_data.iloc[match]['home_team_score']\n",
    "        if away_difference > 0:\n",
    "            b_away_points_wins.append(away_difference)\n",
    "        elif away_difference < 0:\n",
    "            b_away_points_losses.append(away_difference)\n",
    "        else:\n",
    "            b_away_points_draws.append(away_difference)\n",
    "\n",
    "# Print out away points when Brisbane Lions wins, loses, and draws\n",
    "print(\"Away Points when Brisbane Lions wins:\", b_away_points_wins)\n",
    "print(\"Away Points when Brisbane Lions loses:\", b_away_points_losses)\n",
    "print(\"Away Points when Brisbane Lions draws:\", b_away_points_draws)\n",
    "\n",
    "print('\\n')\n",
    "\n",
    "# Print out home points when Brisbane Lions wins, loses, and draws\n",
    "print(\"Home Points when Brisbane Lions wins:\", b_home_points_wins)\n",
    "print(\"Home Points when Brisbane Lions loses:\", b_home_points_losses)\n",
    "print(\"Home Points when Brisbane Lions draws:\", b_home_points_draws)"
   ]
  },
  {
   "cell_type": "markdown",
   "id": "db0e0b93-cc1c-477b-8b23-8d960c1480de",
   "metadata": {},
   "source": [
    "## Brisbane Statistics"
   ]
  },
  {
   "cell_type": "code",
   "execution_count": 14,
   "id": "4a9a2f42-9496-469c-8fc7-16eea57c1609",
   "metadata": {},
   "outputs": [
    {
     "name": "stdout",
     "output_type": "stream",
     "text": [
      "Brisbane Lions Statistics:\n",
      "Average Score: 99.6590909090909\n",
      "Total Wins: 27\n",
      "Total Losses: 16\n",
      "Total Draws: 1\n"
     ]
    }
   ],
   "source": [
    "# Brisbane Lions DataFrame: brisbane_data\n",
    "# Calculate average scores\n",
    "brisbane_avg_score = brisbane_data['home_team_score'].mean()\n",
    "\n",
    "# Total wins\n",
    "brisbane_total_wins = brisbane_data[brisbane_data['home_team_score'] > brisbane_data['away_team_score']]['home_team_score'].count()\n",
    "\n",
    "# Total losses\n",
    "brisbane_total_losses = brisbane_data[brisbane_data['home_team_score'] < brisbane_data['away_team_score']]['home_team_score'].count()\n",
    "\n",
    "# Total draws\n",
    "brisbane_total_draws = brisbane_data[brisbane_data['home_team_score'] == brisbane_data['away_team_score']]['home_team_score'].count()\n",
    "\n",
    "# Print statistics for Brisbane Lions\n",
    "print(\"Brisbane Lions Statistics:\")\n",
    "print(\"Average Score:\", brisbane_avg_score)\n",
    "print(\"Total Wins:\", brisbane_total_wins)\n",
    "print(\"Total Losses:\", brisbane_total_losses)\n",
    "print(\"Total Draws:\", brisbane_total_draws)\n"
   ]
  },
  {
   "cell_type": "code",
   "execution_count": 15,
   "id": "b54df7e6-3965-4b53-b33d-6fd4f3be711c",
   "metadata": {},
   "outputs": [
    {
     "data": {
      "image/png": "[encoded data removed]",
      "text/plain": [
       "<Figure size 640x480 with 1 Axes>"
      ]
     },
     "metadata": {},
     "output_type": "display_data"
    }
   ],
   "source": [
    "# Calculate average scores for each round\n",
    "brisbane_avg_scores_per_round = brisbane_data.groupby('round')['home_team_score'].mean()\n",
    "\n",
    "# Plot average scores per round for Brisbane Lions\n",
    "plt.plot(brisbane_avg_scores_per_round, marker='o', label='Brisbane Lions')\n",
    "plt.xlabel('Round')\n",
    "plt.ylabel('Average Score')\n",
    "plt.title('Average Scores per Round for Brisbane Lions')\n",
    "plt.legend()\n",
    "plt.show()\n"
   ]
  },
  {
   "cell_type": "code",
   "execution_count": 16,
   "id": "113bb9ea-fd50-4de6-a873-e45f57b66c4b",
   "metadata": {},
   "outputs": [],
   "source": [
    "# Convert home team scores and away team scores into NumPy arrays\n",
    "bh_pd_array = np.array(brisbane_data[\"home_team_score\"])\n",
    "ba_pd_array = np.array(brisbane_data[\"away_team_score\"])\n",
    "\n",
    "# Reshape the Brisbane home team scores array into a 2D array with one column\n",
    "new_bhpd_array = bh_pd_array.reshape(-1, 1)"
   ]
  },
  {
   "cell_type": "code",
   "execution_count": 17,
   "id": "73533cbb-cf7e-4ad3-821c-8b791a9e4a8c",
   "metadata": {},
   "outputs": [
    {
     "data": {
      "image/png": "[encoded data removed]",
      "text/plain": [
       "<Figure size 640x480 with 1 Axes>"
      ]
     },
     "metadata": {},
     "output_type": "display_data"
    }
   ],
   "source": [
    "# Plot the home team scores against the away team scores using red dots ('ro')\n",
    "plt.plot(new_bhpd_array, ba_pd_array, 'ro')\n",
    "\n",
    "# Set the title of the plot\n",
    "plt.title(\"Brisbane's Home vs Away Scores\")\n",
    "\n",
    "# Set the labels for x and y axes\n",
    "plt.xlabel(\"Home Team Score\")\n",
    "plt.ylabel(\"Away Team Score\")\n",
    "\n",
    "# Display the plot\n",
    "plt.show()\n"
   ]
  },
  {
   "cell_type": "markdown",
   "id": "57cf5895-0afc-4f65-a06c-176f5f9ae7d2",
   "metadata": {},
   "source": [
    "## Analysis of Adelaide's performance in away matches, showing the points difference and the number of wins and losses."
   ]
  },
  {
   "cell_type": "code",
   "execution_count": 44,
   "id": "3f5fb545",
   "metadata": {},
   "outputs": [
    {
     "name": "stdout",
     "output_type": "stream",
     "text": [
      "Points Difference: [-48, -10, 57, 30, 12, 27, -27, 54, 50, 25, 49, 42, 39, -1, 15, 64, 1, 4, 44, 14, 20, 16, 96, 3, 81, -53, 55, 17, -32, -92, 78, 4, -37, 72, 10, 46, 83, 52, 26, -40, 73, 86, 37, 25]\n",
      "\n",
      "\n",
      "Home Wins for Port Adelaide: 20\n",
      "Home Losses for Port Adelaide: 2\n",
      "Home Draws for Port Adelaide: 0\n",
      "\n",
      "\n",
      "Away Wins for Port Adelaide: 15\n",
      "Away Losses for Port Adelaide: 7\n",
      "Away Draws for Port Adelaide: 0\n"
     ]
    }
   ],
   "source": [
    "# Initialize variables to count home wins, losses, and draws for Port Adelaide\n",
    "ahome_win_count = 0\n",
    "ahome_loss_count = 0\n",
    "ahome_draw_count = 0\n",
    "\n",
    "# Initialize variables to count away wins, losses, and draws for Port Adelaide\n",
    "aaway_win_count = 0\n",
    "aaway_loss_count = 0\n",
    "aaway_draw_count = 0\n",
    "\n",
    "# Initialize line count to iterate through the dataset\n",
    "line_count = 0\n",
    "\n",
    "# Initialize list to store points differences\n",
    "apd = []\n",
    "\n",
    "# Loop through each match (assuming there are 44 matches)\n",
    "while line_count < 44:\n",
    "    try:\n",
    "        # Check if the home team in the current match is \"Port Adelaide\"\n",
    "        if portadelaidelist[line_count][1] == \"Port Adelaide\":\n",
    "            # Calculate points difference for home matches and append to the list\n",
    "            home_difference = portadelaidelist[line_count][2] - portadelaidelist[line_count][4]\n",
    "            apd.append(home_difference)\n",
    "            # Update counts for home wins, losses, and draws\n",
    "            if home_difference > 0:\n",
    "                ahome_win_count += 1\n",
    "            elif home_difference < 0:\n",
    "                ahome_loss_count += 1\n",
    "            else:\n",
    "                ahome_draw_count += 1\n",
    "        else:\n",
    "            # Calculate points difference for away matches\n",
    "            away_difference = portadelaidelist[line_count][4] - portadelaidelist[line_count][2]\n",
    "            apd.append(away_difference)\n",
    "            # Update counts for away wins, losses, and draws\n",
    "            if away_difference > 0:\n",
    "                aaway_win_count += 1\n",
    "            elif away_difference < 0:\n",
    "                aaway_loss_count += 1\n",
    "            else:\n",
    "                aaway_draw_count += 1\n",
    "        line_count += 1\n",
    "    except IndexError:\n",
    "        # Handle IndexError (index out of range)\n",
    "        print(\"Error: Index out of range. Check the data format.\")\n",
    "        break\n",
    "    except Exception as e:\n",
    "        # Handle other exceptions\n",
    "        print(f\"An error occurred: {e}\")\n",
    "        break\n",
    "\n",
    "# Print the points difference list and counts of home and away wins, losses, and draws for Port Adelaide\n",
    "print(\"Points Difference:\", apd)\n",
    "print('\\n')\n",
    "print('Home Wins for Port Adelaide:', ahome_win_count)\n",
    "print('Home Losses for Port Adelaide:', ahome_loss_count)\n",
    "print('Home Draws for Port Adelaide:', ahome_draw_count)\n",
    "print('\\n')\n",
    "print('Away Wins for Port Adelaide:', aaway_win_count)\n",
    "print('Away Losses for Port Adelaide:', aaway_loss_count)\n",
    "print('Away Draws for Port Adelaide:', aaway_draw_count)"
   ]
  },
  {
   "cell_type": "code",
   "execution_count": 19,
   "id": "dad2a7a4-a646-47bb-a806-fe3bd9c33c54",
   "metadata": {},
   "outputs": [
    {
     "name": "stdout",
     "output_type": "stream",
     "text": [
      "Home Points Difference: [-10, 57, 27, 54, 25, 49, 39, 64, 44, 14, 16, 96, 81, 55, 17, -32, 78, 4, 72, 83, 26, 73]\n",
      "Away Points Difference: [-30, 19, -28, -14, 70, 8, -6, 15, 1, -53, 1, 35, -8, -92, -37, 20, -21, 32, -4, 104, -23, -85]\n"
     ]
    }
   ],
   "source": [
    "a_home_points_difference = []\n",
    "a_away_points_difference = []\n",
    "\n",
    "# Iterate through each match\n",
    "for match in range(len(portadelaide_data)):\n",
    "    # Check if Brisbane Lions is the home team\n",
    "    if portadelaide_data.iloc[match]['home_team'] == 'Port Adelaide':\n",
    "        # Calculate home points difference\n",
    "        home_difference = portadelaide_data.iloc[match]['home_team_score'] - portadelaide_data.iloc[match]['away_team_score']\n",
    "        a_home_points_difference.append(home_difference)\n",
    "    else:\n",
    "        # Calculate away points difference\n",
    "        away_difference = portadelaide_data.iloc[match]['away_team_score'] - brisbane_data.iloc[match]['home_team_score']\n",
    "        a_away_points_difference.append(away_difference)\n",
    "\n",
    "# Print out home and away points difference separately\n",
    "print(\"Home Points Difference:\", a_home_points_difference)\n",
    "print(\"Away Points Difference:\", a_away_points_difference)\n"
   ]
  },
  {
   "cell_type": "code",
   "execution_count": 46,
   "id": "17af6c06-5349-49b5-a83c-51683db7bcaf",
   "metadata": {},
   "outputs": [
    {
     "name": "stdout",
     "output_type": "stream",
     "text": [
      "Away Points when Port Adelaide wins: [30, 12, 50, 42, 15, 1, 4, 20, 3, 10, 46, 52, 86, 37, 25]\n",
      "Away Points when Port Adelaide loses: [-48, -27, -1, -53, -92, -37, -40]\n",
      "Away Points when Port Adelaide draws: []\n",
      "\n",
      "\n",
      "Home Points when Port Adelaide wins: [57, 27, 54, 25, 49, 39, 64, 44, 14, 16, 96, 81, 55, 17, 78, 4, 72, 83, 26, 73]\n",
      "Home Points when Port Adelaide loses: [-10, -32]\n",
      "Home Points when Port Adelaide draws: []\n"
     ]
    }
   ],
   "source": [
    "pa_home_points_wins = []\n",
    "pa_home_points_losses = []\n",
    "pa_home_points_draws = []\n",
    "\n",
    "pa_away_points_wins = []\n",
    "pa_away_points_losses = []\n",
    "pa_away_points_draws = []\n",
    "\n",
    "# Iterate through each match\n",
    "for match in range(len(portadelaide_data)):\n",
    "    # Check if Port Adelaide is the home team\n",
    "    if portadelaide_data.iloc[match]['home_team'] == 'Port Adelaide':\n",
    "        # Calculate home points difference\n",
    "        home_difference = portadelaide_data.iloc[match]['home_team_score'] - portadelaide_data.iloc[match]['away_team_score']\n",
    "        if home_difference > 0:\n",
    "            pa_home_points_wins.append(home_difference)\n",
    "        elif home_difference < 0:\n",
    "            pa_home_points_losses.append(home_difference)\n",
    "        else:\n",
    "            pa_home_points_draws.append(home_difference)\n",
    "    else:\n",
    "        # Calculate away points difference\n",
    "        away_difference = portadelaide_data.iloc[match]['away_team_score'] - portadelaide_data.iloc[match]['home_team_score']\n",
    "        if away_difference > 0:\n",
    "            pa_away_points_wins.append(away_difference)\n",
    "        elif away_difference < 0:\n",
    "            pa_away_points_losses.append(away_difference)\n",
    "        else:\n",
    "            pa_away_points_draws.append(away_difference)\n",
    "\n",
    "# Print out away points when Port Adelaide wins, loses, and draws\n",
    "print(\"Away Points when Port Adelaide wins:\", pa_away_points_wins)\n",
    "print(\"Away Points when Port Adelaide loses:\", pa_away_points_losses)\n",
    "print(\"Away Points when Port Adelaide draws:\", pa_away_points_draws)\n",
    "\n",
    "print('\\n')\n",
    "\n",
    "# Print out home points when Port Adelaide wins, loses, and draws\n",
    "print(\"Home Points when Port Adelaide wins:\", pa_home_points_wins)\n",
    "print(\"Home Points when Port Adelaide loses:\", pa_home_points_losses)\n",
    "print(\"Home Points when Port Adelaide draws:\", pa_home_points_draws)"
   ]
  },
  {
   "cell_type": "markdown",
   "id": "dc3bfbda-c160-4d9c-9493-4f66a1d0d1b0",
   "metadata": {},
   "source": [
    "## Port Adelaide's Statistics"
   ]
  },
  {
   "cell_type": "code",
   "execution_count": 47,
   "id": "2ac7afe3-b03f-45b6-8d3e-303471a619da",
   "metadata": {},
   "outputs": [
    {
     "name": "stdout",
     "output_type": "stream",
     "text": [
      "Port Adelaide Statistics:\n",
      "Average Score: 102.43181818181819\n",
      "Total Wins: 27\n",
      "Total Losses: 17\n",
      "Total Draws: 0\n"
     ]
    }
   ],
   "source": [
    "# Calculate average scores\n",
    "portadelaide_avg_score = portadelaide_data['home_team_score'].mean()\n",
    "\n",
    "# Total wins\n",
    "portadelaide_total_wins = portadelaide_data[portadelaide_data['home_team_score'] > portadelaide_data['away_team_score']]['home_team_score'].count()\n",
    "\n",
    "# Total losses\n",
    "portadelaide_total_losses = portadelaide_data[portadelaide_data['home_team_score'] < portadelaide_data['away_team_score']]['home_team_score'].count()\n",
    "\n",
    "# Total draws\n",
    "portadelaide_total_draws = portadelaide_data[portadelaide_data['home_team_score'] == portadelaide_data['away_team_score']]['home_team_score'].count()\n",
    "\n",
    "# Print statistics for Port Adelaide\n",
    "print(\"Port Adelaide Statistics:\")\n",
    "print(\"Average Score:\", portadelaide_avg_score)\n",
    "print(\"Total Wins:\", portadelaide_total_wins)\n",
    "print(\"Total Losses:\", portadelaide_total_losses)\n",
    "print(\"Total Draws:\", portadelaide_total_draws)"
   ]
  },
  {
   "cell_type": "code",
   "execution_count": 49,
   "id": "ab6a5d25-7b2c-44f5-9576-d57ff8ee8d26",
   "metadata": {},
   "outputs": [
    {
     "data": {
      "image/png": "[encoded data removed]",
      "text/plain": [
       "<Figure size 640x480 with 1 Axes>"
      ]
     },
     "metadata": {},
     "output_type": "display_data"
    }
   ],
   "source": [
    "# Calculate average scores for each round\n",
    "portadelaide_avg_scores_per_round = portadelaide_data.groupby('round')['home_team_score'].mean()\n",
    "\n",
    "# Plot average scores per round for Port Adelaide\n",
    "plt.plot(portadelaide_avg_scores_per_round, marker='o', label='Port Adelaide')\n",
    "plt.xlabel('Round')\n",
    "plt.ylabel('Average Score')\n",
    "plt.title('Average Scores per Round for Port Adelaide')\n",
    "plt.legend()\n",
    "plt.show()"
   ]
  },
  {
   "cell_type": "code",
   "execution_count": 50,
   "id": "08d790fc-58d9-4568-b077-49b384db7e53",
   "metadata": {},
   "outputs": [],
   "source": [
    "# Convert home team scores and away team scores into NumPy arrays\n",
    "ah_pd_array = np.array(portadelaide_data[\"home_team_score\"])\n",
    "aa_pd_array = np.array(portadelaide_data[\"away_team_score\"])\n",
    "\n",
    "# Reshape the Brisbane home team scores array into a 2D array with one column\n",
    "new_ahpd_array = ah_pd_array.reshape(-1, 1)"
   ]
  },
  {
   "cell_type": "code",
   "execution_count": 51,
   "id": "148610b7-e5da-4d38-b64d-ff63af0852c9",
   "metadata": {},
   "outputs": [
    {
     "data": {
      "image/png": "[encoded data removed]",
      "text/plain": [
       "<Figure size 640x480 with 1 Axes>"
      ]
     },
     "metadata": {},
     "output_type": "display_data"
    }
   ],
   "source": [
    "# Plot the home team scores against the away team scores using red dots ('ro')\n",
    "plt.plot(new_ahpd_array, aa_pd_array, 'ro')\n",
    "\n",
    "# Set the title of the plot\n",
    "plt.title(\"Port Adelaide's Home vs Away Scores\")\n",
    "\n",
    "# Set the labels for x and y axes\n",
    "plt.xlabel(\"Home Team Score\")\n",
    "plt.ylabel(\"Away Team Score\")\n",
    "\n",
    "# Display the plot\n",
    "plt.show()\n"
   ]
  },
  {
   "cell_type": "markdown",
   "id": "2fb3880d-a072-459a-875e-fc1bff85705c",
   "metadata": {},
   "source": [
    "# Bar Chart Showing the Points difference of the Teams for each Round."
   ]
  },
  {
   "cell_type": "code",
   "execution_count": 67,
   "id": "eddbd7fa-8757-49b1-890e-77adce4da71b",
   "metadata": {},
   "outputs": [
    {
     "data": {
      "image/png": "[encoded data removed]",
      "text/plain": [
       "<Figure size 640x480 with 1 Axes>"
      ]
     },
     "metadata": {},
     "output_type": "display_data"
    }
   ],
   "source": [
    "# Define the rounds as the x-axis tick labels\n",
    "rounds = list(range(1, len(bpd) + 1))\n",
    "\n",
    "# Define the width of the bars and the spacing between them\n",
    "width = 0.3  # Adjust the width of the bars\n",
    "spacing = 1.0  # Adjust the spacing between the bars\n",
    "\n",
    "# Create the figure and axis objects\n",
    "fig, ax = plt.subplots()\n",
    "\n",
    "# Plot the points difference for Brisbane Lions and Port Adelaide with increased spacing\n",
    "rects1 = ax.bar([r - (width + spacing) / 2 for r in rounds], bpd, width, label='Brisbane')\n",
    "rects2 = ax.bar([r + (width + spacing) / 2 for r in rounds], apd, width, label='Port Adelaide')\n",
    "\n",
    "# Adding labels and title\n",
    "ax.set_ylabel('Points Difference')\n",
    "ax.set_xlabel('Round')\n",
    "ax.set_title('Points Difference between Brisbane Lions and Port Adelaide')\n",
    "ax.set_xticks(rounds)\n",
    "ax.set_xticklabels(rounds, rotation=90)  # Rotate x-axis labels by 90 degrees\n",
    "ax.legend()\n",
    "\n",
    "# Adding labels on top of bars\n",
    "def autolabel(rects):\n",
    "    for rect in rects:\n",
    "        height = rect.get_height()\n",
    "        ax.annotate('{}'.format(height),\n",
    "                    xy=(rect.get_x() + rect.get_width() / 2, height),\n",
    "                    xytext=(0, 3),  \n",
    "                    textcoords=\"offset points\",\n",
    "                    ha='center', va='bottom')\n",
    "\n",
    "autolabel(rects1)\n",
    "autolabel(rects2)\n",
    "\n",
    "# Show the plot\n",
    "plt.tight_layout()\n",
    "plt.show()"
   ]
  },
  {
   "cell_type": "code",
   "execution_count": 75,
   "id": "c2f5c630-888e-4d64-82b4-b10812fb3817",
   "metadata": {},
   "outputs": [
    {
     "name": "stdout",
     "output_type": "stream",
     "text": [
      "   round      home_team  home_team_score         away_team  away_team_score  \\\n",
      "0      1       Brisbane              104          Essendon               61   \n",
      "1      2  Port Adelaide               76          Brisbane               86   \n",
      "2      3      Kangaroos              109          Brisbane              109   \n",
      "3      4       Brisbane               95       Collingwood               81   \n",
      "4      5       Brisbane              106  Western Bulldogs               79   \n",
      "\n",
      "   win_loss  \n",
      "0         1  \n",
      "1         1  \n",
      "2         0  \n",
      "3         1  \n",
      "4         1  \n"
     ]
    }
   ],
   "source": [
    "# Initialize an empty list to store the win-loss results\n",
    "win_loss_results = []\n",
    "\n",
    "# Iterate over each match in the list\n",
    "for match in brisbanelist:\n",
    "    # Check if Brisbane is the home team\n",
    "    if match[1] == \"Brisbane\":\n",
    "        # Calculate points difference for home matches\n",
    "        points_difference = match[2] - match[4]\n",
    "        # Check if Brisbane won the match\n",
    "        if points_difference > 0:\n",
    "            win_loss_results.append(1)  # Brisbane won\n",
    "        else:\n",
    "            win_loss_results.append(0)  # Brisbane lost\n",
    "    else:\n",
    "        # Calculate points difference for away matches\n",
    "        points_difference = match[4] - match[2]\n",
    "        # Check if Brisbane won the match\n",
    "        if points_difference > 0:\n",
    "            win_loss_results.append(1)  # Brisbane won\n",
    "        else:\n",
    "            win_loss_results.append(0)  # Brisbane lost\n",
    "\n",
    "# Convert the win-loss results list to a numpy array\n",
    "win_loss_results = np.array(win_loss_results)\n",
    "\n",
    "# Assuming you have a column named 'win_loss' in your dataframe\n",
    "brisbane_data['win_loss'] = win_loss_results\n",
    "\n",
    "# Print the first few rows of the dataframe with the 'win_loss' column\n",
    "print(brisbane_data.head())"
   ]
  },
  {
   "cell_type": "code",
   "execution_count": 76,
   "id": "fdeee1f5-8e14-418f-9abf-d8fbff374d88",
   "metadata": {},
   "outputs": [
    {
     "name": "stdout",
     "output_type": "stream",
     "text": [
      "   round      home_team  home_team_score      away_team  away_team_score  \\\n",
      "0      1     West Coast              122  Port Adelaide               74   \n",
      "1      2  Port Adelaide               76       Brisbane               86   \n",
      "2      3  Port Adelaide              128       Hawthorn               71   \n",
      "3      4        Carlton               84  Port Adelaide              114   \n",
      "4      5       Adelaide               66  Port Adelaide               78   \n",
      "\n",
      "   win_loss  \n",
      "0         0  \n",
      "1         0  \n",
      "2         1  \n",
      "3         1  \n",
      "4         1  \n"
     ]
    }
   ],
   "source": [
    "# Initialize an empty list to store the win-loss results\n",
    "win_loss_results = []\n",
    "\n",
    "# Iterate over each match in the list\n",
    "for match in portadelaidelist:\n",
    "    # Check if Brisbane is the home team\n",
    "    if match[1] == \"Port Adelaide\":\n",
    "        # Calculate points difference for home matches\n",
    "        points_difference = match[2] - match[4]\n",
    "        # Check if Brisbane won the match\n",
    "        if points_difference > 0:\n",
    "            win_loss_results.append(1)  # Brisbane won\n",
    "        else:\n",
    "            win_loss_results.append(0)  # Brisbane lost\n",
    "    else:\n",
    "        # Calculate points difference for away matches\n",
    "        points_difference = match[4] - match[2]\n",
    "        # Check if Brisbane won the match\n",
    "        if points_difference > 0:\n",
    "            win_loss_results.append(1)  # Brisbane won\n",
    "        else:\n",
    "            win_loss_results.append(0)  # Brisbane lost\n",
    "\n",
    "# Convert the win-loss results list to a numpy array\n",
    "win_loss_results = np.array(win_loss_results)\n",
    "\n",
    "# Assuming you have a column named 'win_loss' in your dataframe\n",
    "portadelaide_data['win_loss'] = win_loss_results\n",
    "\n",
    "# Print the first few rows of the dataframe with the 'win_loss' column\n",
    "print(portadelaide_data.head())"
   ]
  },
  {
   "cell_type": "markdown",
   "id": "56541d54-5cc5-4bb1-9c83-e17e65fc5ab1",
   "metadata": {},
   "source": [
    "## Statistics"
   ]
  },
  {
   "cell_type": "code",
   "execution_count": 42,
   "id": "75cd8d89-558d-42a7-adc8-44a551f5841e",
   "metadata": {},
   "outputs": [
    {
     "name": "stdout",
     "output_type": "stream",
     "text": [
      "Brisbane Average Scores per Round:\n",
      "       home_team_score  away_team_score\n",
      "round                                  \n",
      "1                 92.0             69.5\n",
      "2                 79.5             95.0\n",
      "3                123.0             93.0\n",
      "4                 87.0             78.5\n",
      "5                108.0             70.5\n",
      "\n",
      "Port Adelaide Average Scores per Round:\n",
      "       home_team_score  away_team_score\n",
      "round                                  \n",
      "1                140.0             68.0\n",
      "2                 95.5            102.0\n",
      "3                149.5             80.5\n",
      "4                104.0             92.5\n",
      "5                 92.5             71.0\n",
      "\n",
      "Brisbane Winning Percentage: 0.6136363636363636\n",
      "Port Adelaide Winning Percentage: 0.6136363636363636\n",
      "\n",
      "Brisbane Average Margin of Victory: 8.25\n",
      "Port Adelaide Average Margin of Victory: 18.113636363636363\n"
     ]
    }
   ],
   "source": [
    "# Calculate average scores for each team in each season\n",
    "brisbane_avg_scores = brisbane_data.groupby('round').agg({'home_team_score': 'mean', 'away_team_score': 'mean'})\n",
    "portadelaide_avg_scores = portadelaide_data.groupby('round').agg({'home_team_score': 'mean', 'away_team_score': 'mean'})\n",
    "\n",
    "# Calculate winning percentages for each team in each season\n",
    "brisbane_winning_percentage = (brisbane_data['home_team_score'] > brisbane_data['away_team_score']).mean()\n",
    "portadelaide_winning_percentage = (portadelaide_data['home_team_score'] > portadelaide_data['away_team_score']).mean()\n",
    "\n",
    "# Calculate margins of victory for each team in each season\n",
    "brisbane_data['margin_of_victory'] = brisbane_data['home_team_score'] - brisbane_data['away_team_score']\n",
    "portadelaide_data['margin_of_victory'] = portadelaide_data['home_team_score'] - portadelaide_data['away_team_score']\n",
    "brisbane_avg_margin = brisbane_data['margin_of_victory'].mean()\n",
    "portadelaide_avg_margin = portadelaide_data['margin_of_victory'].mean()\n",
    "\n",
    "# Print the calculated statistics\n",
    "print(\"Brisbane Average Scores per Round:\")\n",
    "print(brisbane_avg_scores.head())\n",
    "\n",
    "print(\"\\nPort Adelaide Average Scores per Round:\")\n",
    "print(portadelaide_avg_scores.head())\n",
    "\n",
    "print(\"\\nBrisbane Winning Percentage:\", brisbane_winning_percentage)\n",
    "print(\"Port Adelaide Winning Percentage:\", portadelaide_winning_percentage)\n",
    "\n",
    "print(\"\\nBrisbane Average Margin of Victory:\", brisbane_avg_margin)\n",
    "print(\"Port Adelaide Average Margin of Victory:\", portadelaide_avg_margin)\n"
   ]
  },
  {
   "cell_type": "code",
   "execution_count": 33,
   "id": "cfdcc1d9-005e-41cf-a563-d12eeff29610",
   "metadata": {},
   "outputs": [
    {
     "name": "stdout",
     "output_type": "stream",
     "text": [
      "Brisbane Lions:\n",
      "Average Home Score: 115.76190476190476\n",
      "Average Away Score: 100.04545454545455\n",
      "Win Rate: 65.9090909090909\n",
      "Goal Differential: 190\n",
      "\n",
      "Port Adelaide:\n",
      "Average Home Score: 113.95454545454545\n",
      "Average Away Score: 97.04545454545455\n",
      "Win Rate: 79.54545454545455\n",
      "Goal Differential: -190\n"
     ]
    }
   ],
   "source": [
    "# 1. Calculate Average Scores\n",
    "brisbane_avg_home_score = brisbane_data[brisbane_data['home_team'] == 'Brisbane']['home_team_score'].mean()\n",
    "brisbane_avg_away_score = brisbane_data[brisbane_data['away_team'] == 'Brisbane']['away_team_score'].mean()\n",
    "\n",
    "portadelaide_avg_home_score = portadelaide_data[portadelaide_data['home_team'] == 'Port Adelaide']['home_team_score'].mean()\n",
    "portadelaide_avg_away_score = portadelaide_data[portadelaide_data['away_team'] == 'Port Adelaide']['away_team_score'].mean()\n",
    "\n",
    "# 2. Calculate Win Rates\n",
    "brisbane_total_matches = len(brisbane_data)\n",
    "brisbane_home_wins = len(brisbane_data[(brisbane_data['home_team'] == 'Brisbane') & (brisbane_data['home_team_score'] > brisbane_data['away_team_score'])])\n",
    "brisbane_away_wins = len(brisbane_data[(brisbane_data['away_team'] == 'Brisbane') & (brisbane_data['away_team_score'] > brisbane_data['home_team_score'])])\n",
    "brisbane_total_wins = brisbane_home_wins + brisbane_away_wins\n",
    "brisbane_win_rate = (brisbane_total_wins / brisbane_total_matches) * 100\n",
    "\n",
    "portadelaide_total_matches = len(portadelaide_data)\n",
    "portadelaide_home_wins = len(portadelaide_data[(portadelaide_data['home_team'] == 'Port Adelaide') & (portadelaide_data['home_team_score'] > portadelaide_data['away_team_score'])])\n",
    "portadelaide_away_wins = len(portadelaide_data[(portadelaide_data['away_team'] == 'Port Adelaide') & (portadelaide_data['away_team_score'] > portadelaide_data['home_team_score'])])\n",
    "portadelaide_total_wins = portadelaide_home_wins + portadelaide_away_wins\n",
    "portadelaide_win_rate = (portadelaide_total_wins / portadelaide_total_matches) * 100\n",
    "\n",
    "# 3. Calculate Goal Differentials\n",
    "brisbane_goals_scored = brisbane_data['home_team_score'].sum() + brisbane_data['away_team_score'].sum()\n",
    "brisbane_goals_conceded = portadelaide_data['home_team_score'].sum() + portadelaide_data['away_team_score'].sum()\n",
    "brisbane_goal_differential = brisbane_goals_scored - brisbane_goals_conceded\n",
    "\n",
    "portadelaide_goals_scored = portadelaide_data['home_team_score'].sum() + portadelaide_data['away_team_score'].sum()\n",
    "portadelaide_goals_conceded = brisbane_data['home_team_score'].sum() + brisbane_data['away_team_score'].sum()\n",
    "portadelaide_goal_differential = portadelaide_goals_scored - portadelaide_goals_conceded\n",
    "\n",
    "# Print the calculated metrics\n",
    "print(\"Brisbane Lions:\")\n",
    "print(\"Average Home Score:\", brisbane_avg_home_score)\n",
    "print(\"Average Away Score:\", brisbane_avg_away_score)\n",
    "print(\"Win Rate:\", brisbane_win_rate)\n",
    "print(\"Goal Differential:\", brisbane_goal_differential)\n",
    "\n",
    "print(\"\\nPort Adelaide:\")\n",
    "print(\"Average Home Score:\", portadelaide_avg_home_score)\n",
    "print(\"Average Away Score:\", portadelaide_avg_away_score)\n",
    "print(\"Win Rate:\", portadelaide_win_rate)\n",
    "print(\"Goal Differential:\", portadelaide_goal_differential)\n"
   ]
  },
  {
   "cell_type": "markdown",
   "id": "87bc4d22-5f59-4fcc-91db-cd4250fcd65e",
   "metadata": {},
   "source": [
    "## Performance Comparison in Home and Away Matches "
   ]
  },
  {
   "cell_type": "code",
   "execution_count": 34,
   "id": "0426a14e-7572-4c48-b4bc-2d96b7a9221a",
   "metadata": {},
   "outputs": [
    {
     "name": "stdout",
     "output_type": "stream",
     "text": [
      "Comparison of Performance in Home Matches:\n",
      "Brisbane Lions - Average Home Score: 115.76190476190476  | Win Rate: 80.95238095238095 %\n",
      "Port Adelaide - Average Home Score: 113.95454545454545  | Win Rate: 90.9090909090909 %\n",
      "\n",
      "Comparison of Performance in Away Matches:\n",
      "Brisbane Lions - Average Away Score: 100.04545454545455  | Win Rate: 54.54545454545454 %\n",
      "Port Adelaide - Average Away Score: 97.04545454545455  | Win Rate: 68.18181818181817 %\n"
     ]
    }
   ],
   "source": [
    "# Calculate Average Scores for Home Matches\n",
    "brisbane_avg_home_score = brisbane_data[brisbane_data['home_team'] == 'Brisbane']['home_team_score'].mean()\n",
    "portadelaide_avg_home_score = portadelaide_data[portadelaide_data['home_team'] == 'Port Adelaide']['home_team_score'].mean()\n",
    "\n",
    "# Calculate Average Scores for Away Matches\n",
    "brisbane_avg_away_score = brisbane_data[brisbane_data['away_team'] == 'Brisbane']['away_team_score'].mean()\n",
    "portadelaide_avg_away_score = portadelaide_data[portadelaide_data['away_team'] == 'Port Adelaide']['away_team_score'].mean()\n",
    "\n",
    "# Calculate Win Rates for Home Matches\n",
    "brisbane_home_matches = brisbane_data[brisbane_data['home_team'] == 'Brisbane']\n",
    "brisbane_home_wins = len(brisbane_home_matches[brisbane_home_matches['home_team_score'] > brisbane_home_matches['away_team_score']])\n",
    "brisbane_home_matches_total = len(brisbane_home_matches)\n",
    "brisbane_home_win_rate = (brisbane_home_wins / brisbane_home_matches_total) * 100\n",
    "\n",
    "portadelaide_home_matches = portadelaide_data[portadelaide_data['home_team'] == 'Port Adelaide']\n",
    "portadelaide_home_wins = len(portadelaide_home_matches[portadelaide_home_matches['home_team_score'] > portadelaide_home_matches['away_team_score']])\n",
    "portadelaide_home_matches_total = len(portadelaide_home_matches)\n",
    "portadelaide_home_win_rate = (portadelaide_home_wins / portadelaide_home_matches_total) * 100\n",
    "\n",
    "# Calculate Win Rates for Away Matches\n",
    "brisbane_away_matches = brisbane_data[brisbane_data['away_team'] == 'Brisbane']\n",
    "brisbane_away_wins = len(brisbane_away_matches[brisbane_away_matches['away_team_score'] > brisbane_away_matches['home_team_score']])\n",
    "brisbane_away_matches_total = len(brisbane_away_matches)\n",
    "brisbane_away_win_rate = (brisbane_away_wins / brisbane_away_matches_total) * 100\n",
    "\n",
    "portadelaide_away_matches = portadelaide_data[portadelaide_data['away_team'] == 'Port Adelaide']\n",
    "portadelaide_away_wins = len(portadelaide_away_matches[portadelaide_away_matches['away_team_score'] > portadelaide_away_matches['home_team_score']])\n",
    "portadelaide_away_matches_total = len(portadelaide_away_matches)\n",
    "portadelaide_away_win_rate = (portadelaide_away_wins / portadelaide_away_matches_total) * 100\n",
    "\n",
    "# Print the comparison results\n",
    "print(\"Comparison of Performance in Home Matches:\")\n",
    "print(\"Brisbane Lions - Average Home Score:\", brisbane_avg_home_score, \" | Win Rate:\", brisbane_home_win_rate, \"%\")\n",
    "print(\"Port Adelaide - Average Home Score:\", portadelaide_avg_home_score, \" | Win Rate:\", portadelaide_home_win_rate, \"%\")\n",
    "\n",
    "print(\"\\nComparison of Performance in Away Matches:\")\n",
    "print(\"Brisbane Lions - Average Away Score:\", brisbane_avg_away_score, \" | Win Rate:\", brisbane_away_win_rate, \"%\")\n",
    "print(\"Port Adelaide - Average Away Score:\", portadelaide_avg_away_score, \" | Win Rate:\", portadelaide_away_win_rate, \"%\")\n"
   ]
  },
  {
   "cell_type": "code",
   "execution_count": 86,
   "id": "dd10f52f-957b-4cbb-af32-bd23f417313c",
   "metadata": {},
   "outputs": [
    {
     "name": "stdout",
     "output_type": "stream",
     "text": [
      "Brisbane Wins: 29\n",
      "Brisbane Losses: 15\n",
      "Brisbane Winning Points: [43, -10, 14, 27, -14, 18, -77, -60, 43, 12, 54, -39, 37, -84, 2, -21, 60, -44, 38, -40, 37, -66, 18, 68, -36, 141, -23, 45, 113]\n",
      "Brisbane Losing Points: [0, 19, 5, -69, 3, 8, -1, -14, 3, 48, 1, 59, 27, 32, -14]\n",
      "\n",
      "\n",
      "Port Adelaide Wins: 35\n",
      "Port Adelaide Losses: 9\n",
      "Port Adelaide Winning Points: [-57, 30, 12, -27, -54, 50, -25, -49, 42, -39, 15, -64, 1, 4, -44, -14, 20, -16, -96, 3, -81, -55, -17, -78, -4, -72, 10, 46, -83, 52, -26, -73, 86, 37, 25]\n",
      "Port Adelaide Losing Points: [-48, 10, -27, -1, -53, 32, -92, -37, -40]\n"
     ]
    }
   ],
   "source": [
    "# Calculate the number of wins and losses for Brisbane and Port Adelaide\n",
    "bwin_counts = (brisbane_data['win_loss'] == 1).sum()\n",
    "bloss_counts = (brisbane_data['win_loss'] == 0).sum()\n",
    "\n",
    "awin_counts = (portadelaide_data['win_loss'] == 1).sum()\n",
    "aloss_counts = (portadelaide_data['win_loss'] == 0).sum()\n",
    "\n",
    "# Calculate points difference for Brisbane\n",
    "brisbane_data['points_difference'] = brisbane_data['home_team_score'] - brisbane_data['away_team_score']\n",
    "\n",
    "# Calculate points difference for Port Adelaide\n",
    "portadelaide_data['points_difference'] = portadelaide_data['away_team_score'] - portadelaide_data['home_team_score']\n",
    "\n",
    "# Extract the points difference for wins and losses\n",
    "b_win_points = brisbane_data.loc[brisbane_data['win_loss'] == 1, 'points_difference'].tolist()\n",
    "b_loss_points = brisbane_data.loc[brisbane_data['win_loss'] == 0, 'points_difference'].tolist()\n",
    "\n",
    "a_win_points = portadelaide_data.loc[portadelaide_data['win_loss'] == 1, 'points_difference'].tolist()\n",
    "a_loss_points = portadelaide_data.loc[portadelaide_data['win_loss'] == 0, 'points_difference'].tolist()\n",
    "\n",
    "# Print the results\n",
    "print(\"Brisbane Wins:\", bwin_counts)\n",
    "print(\"Brisbane Losses:\", bloss_counts)\n",
    "print(\"Brisbane Winning Points:\", b_win_points)\n",
    "print(\"Brisbane Losing Points:\", b_loss_points)\n",
    "print('\\n')\n",
    "print(\"Port Adelaide Wins:\", awin_counts)\n",
    "print(\"Port Adelaide Losses:\", aloss_counts)\n",
    "print(\"Port Adelaide Winning Points:\", a_win_points)\n",
    "print(\"Port Adelaide Losing Points:\", a_loss_points)"
   ]
  },
  {
   "cell_type": "markdown",
   "id": "550dea1f-2ffd-4752-bd87-ec7dd0529bbb",
   "metadata": {},
   "source": [
    "## Head-to-Head Analysis between Brisbane Lions and Port Adelaide"
   ]
  },
  {
   "cell_type": "code",
   "execution_count": 35,
   "id": "447ffd19-edf2-4612-a6f6-c044e2e740f7",
   "metadata": {},
   "outputs": [
    {
     "name": "stdout",
     "output_type": "stream",
     "text": [
      "Head-to-Head Analysis between Brisbane Lions and Port Adelaide during the 2004 season:\n",
      "Brisbane Lions vs. Port Adelaide:\n",
      "   Matches as Home Team: 2\n",
      "   Matches as Away Team: 1\n",
      "   Wins: 2\n",
      "   Losses: 1\n",
      "   Draws: 0\n",
      "\n",
      "Port Adelaide vs. Brisbane Lions:\n",
      "   Matches as Home Team: 1\n",
      "   Matches as Away Team: 2\n",
      "   Wins: 1\n",
      "   Losses: 2\n",
      "   Draws: 0\n"
     ]
    }
   ],
   "source": [
    "# Calculate the number of matches where Brisbane Lions played as the home team against Port Adelaide\n",
    "brisbane_home_vs_port_matches = len(brisbane_data[(brisbane_data['home_team'] == 'Brisbane') & (brisbane_data['away_team'] == 'Port Adelaide')])\n",
    "\n",
    "# Calculate the number of matches where Brisbane Lions played as the away team against Port Adelaide\n",
    "brisbane_away_vs_port_matches = len(brisbane_data[(brisbane_data['away_team'] == 'Brisbane') & (brisbane_data['home_team'] == 'Port Adelaide')])\n",
    "\n",
    "# Calculate the number of matches where Port Adelaide played as the home team against Brisbane Lions\n",
    "port_home_vs_brisbane_matches = len(portadelaide_data[(portadelaide_data['home_team'] == 'Port Adelaide') & (portadelaide_data['away_team'] == 'Brisbane')])\n",
    "\n",
    "# Calculate the number of matches where Port Adelaide played as the away team against Brisbane Lions\n",
    "port_away_vs_brisbane_matches = len(portadelaide_data[(portadelaide_data['away_team'] == 'Port Adelaide') & (portadelaide_data['home_team'] == 'Brisbane')])\n",
    "\n",
    "# Calculate the number of wins, losses, and draws for each team in their head-to-head matchups\n",
    "brisbane_wins = len(brisbane_data[((brisbane_data['home_team'] == 'Brisbane') & (brisbane_data['away_team'] == 'Port Adelaide') & (brisbane_data['home_team_score'] > brisbane_data['away_team_score'])) |\n",
    "                                  ((brisbane_data['away_team'] == 'Brisbane') & (brisbane_data['home_team'] == 'Port Adelaide') & (brisbane_data['away_team_score'] > brisbane_data['home_team_score']))])\n",
    "\n",
    "port_wins = len(portadelaide_data[((portadelaide_data['home_team'] == 'Port Adelaide') & (portadelaide_data['away_team'] == 'Brisbane') & (portadelaide_data['home_team_score'] > portadelaide_data['away_team_score'])) |\n",
    "                                   ((portadelaide_data['away_team'] == 'Port Adelaide') & (portadelaide_data['home_team'] == 'Brisbane') & (portadelaide_data['away_team_score'] > portadelaide_data['home_team_score']))])\n",
    "\n",
    "draws = len(brisbane_data[((brisbane_data['home_team'] == 'Brisbane') & (brisbane_data['away_team'] == 'Port Adelaide') & (brisbane_data['home_team_score'] == brisbane_data['away_team_score'])) |\n",
    "                          ((brisbane_data['away_team'] == 'Brisbane') & (brisbane_data['home_team'] == 'Port Adelaide') & (brisbane_data['away_team_score'] == brisbane_data['home_team_score']))])\n",
    "\n",
    "# Print the head-to-head analysis results\n",
    "print(\"Head-to-Head Analysis between Brisbane Lions and Port Adelaide during the 2004 season:\")\n",
    "print(\"Brisbane Lions vs. Port Adelaide:\")\n",
    "print(\"   Matches as Home Team:\", brisbane_home_vs_port_matches)\n",
    "print(\"   Matches as Away Team:\", brisbane_away_vs_port_matches)\n",
    "print(\"   Wins:\", brisbane_wins)\n",
    "print(\"   Losses:\", port_wins)\n",
    "print(\"   Draws:\", draws)\n",
    "\n",
    "print(\"\\nPort Adelaide vs. Brisbane Lions:\")\n",
    "print(\"   Matches as Home Team:\", port_home_vs_brisbane_matches)\n",
    "print(\"   Matches as Away Team:\", port_away_vs_brisbane_matches)\n",
    "print(\"   Wins:\", port_wins)\n",
    "print(\"   Losses:\", brisbane_wins)\n",
    "print(\"   Draws:\", draws)\n"
   ]
  },
  {
   "cell_type": "code",
   "execution_count": 42,
   "id": "a3736cf7-7606-42a6-8330-90b07b28d201",
   "metadata": {},
   "outputs": [
    {
     "name": "stdout",
     "output_type": "stream",
     "text": [
      "       home_team_score  away_team_score\n",
      "round                                  \n",
      "1                 92.0             69.5\n",
      "2                 79.5             95.0\n",
      "3                123.0             93.0\n",
      "4                 87.0             78.5\n",
      "5                108.0             70.5\n",
      "6                 85.0             91.5\n",
      "7                 87.0             99.5\n",
      "8                123.5             95.5\n",
      "9                106.5            115.5\n",
      "10                73.0            123.0\n",
      "11               106.5             85.5\n",
      "12                93.5            161.0\n",
      "13                98.0             63.0\n",
      "14                94.5             84.0\n",
      "15               114.5             74.5\n",
      "16                83.5             97.5\n",
      "17               146.0             76.0\n",
      "18               110.0             67.0\n",
      "19                67.5             94.0\n",
      "20                59.5             78.0\n",
      "21               126.5             85.5\n",
      "22               128.0            113.5\n"
     ]
    }
   ],
   "source": [
    "# Group the data by round number\n",
    "round_grouped = brisbane_data.groupby('round')\n",
    "\n",
    "# Calculate aggregate statistics for each round\n",
    "round_statistics = round_grouped.agg({\n",
    "    'home_team_score': 'mean',\n",
    "    'away_team_score': 'mean',\n",
    "    # Add other performance metrics here\n",
    "})\n",
    "\n",
    "# Display the aggregate statistics for each round\n",
    "print(round_statistics)\n"
   ]
  },
  {
   "cell_type": "code",
   "execution_count": 68,
   "id": "4c2ecc6e-a241-4400-b37f-2638a2ab1231",
   "metadata": {},
   "outputs": [
    {
     "name": "stdout",
     "output_type": "stream",
     "text": [
      "       home_team_score  away_team_score\n",
      "round                                  \n",
      "1                140.0             68.0\n",
      "2                 95.5            102.0\n",
      "3                149.5             80.5\n",
      "4                104.0             92.5\n",
      "5                 92.5             71.0\n",
      "6                 92.5             70.5\n",
      "7                 99.0            101.5\n",
      "8                121.5             48.5\n",
      "9                112.0             98.0\n",
      "10               107.0             92.5\n",
      "11               117.5             74.5\n",
      "12                94.5             79.5\n",
      "13               100.5             86.0\n",
      "14                58.5             81.0\n",
      "15               108.0             74.0\n",
      "16                83.5             77.5\n",
      "17               102.5             90.0\n",
      "18                99.5             81.5\n",
      "19               125.0             66.5\n",
      "20                86.5            122.5\n",
      "21                87.0            115.5\n",
      "22                77.0             81.5\n"
     ]
    }
   ],
   "source": [
    "# Group the data by round number\n",
    "round_grouped = portadelaide_data.groupby('round')\n",
    "\n",
    "# Calculate aggregate statistics for each round\n",
    "round_statistics = round_grouped.agg({\n",
    "    'home_team_score': 'mean',\n",
    "    'away_team_score': 'mean',\n",
    "    # Add other performance metrics here\n",
    "})\n",
    "\n",
    "# Display the aggregate statistics for each round\n",
    "print(round_statistics)\n"
   ]
  },
  {
   "cell_type": "markdown",
   "id": "2d251a8b-ba91-49db-b7ca-6a1ca2ec764b",
   "metadata": {},
   "source": [
    "# Linear Regression Model"
   ]
  },
  {
   "cell_type": "code",
   "execution_count": 36,
   "id": "9c31a17e",
   "metadata": {},
   "outputs": [],
   "source": [
    "my_model = LinearRegression()"
   ]
  },
  {
   "cell_type": "code",
   "execution_count": 37,
   "id": "b1cdf111",
   "metadata": {},
   "outputs": [
    {
     "data": {
      "text/html": [
       "<style>#sk-container-id-1 {color: black;background-color: white;}#sk-container-id-1 pre{padding: 0;}#sk-container-id-1 div.sk-toggleable {background-color: white;}#sk-container-id-1 label.sk-toggleable__label {cursor: pointer;display: block;width: 100%;margin-bottom: 0;padding: 0.3em;box-sizing: border-box;text-align: center;}#sk-container-id-1 label.sk-toggleable__label-arrow:before {content: \"▸\";float: left;margin-right: 0.25em;color: #696969;}#sk-container-id-1 label.sk-toggleable__label-arrow:hover:before {color: black;}#sk-container-id-1 div.sk-estimator:hover label.sk-toggleable__label-arrow:before {color: black;}#sk-container-id-1 div.sk-toggleable__content {max-height: 0;max-width: 0;overflow: hidden;text-align: left;background-color: #f0f8ff;}#sk-container-id-1 div.sk-toggleable__content pre {margin: 0.2em;color: black;border-radius: 0.25em;background-color: #f0f8ff;}#sk-container-id-1 input.sk-toggleable__control:checked~div.sk-toggleable__content {max-height: 200px;max-width: 100%;overflow: auto;}#sk-container-id-1 input.sk-toggleable__control:checked~label.sk-toggleable__label-arrow:before {content: \"▾\";}#sk-container-id-1 div.sk-estimator input.sk-toggleable__control:checked~label.sk-toggleable__label {background-color: #d4ebff;}#sk-container-id-1 div.sk-label input.sk-toggleable__control:checked~label.sk-toggleable__label {background-color: #d4ebff;}#sk-container-id-1 input.sk-hidden--visually {border: 0;clip: rect(1px 1px 1px 1px);clip: rect(1px, 1px, 1px, 1px);height: 1px;margin: -1px;overflow: hidden;padding: 0;position: absolute;width: 1px;}#sk-container-id-1 div.sk-estimator {font-family: monospace;background-color: #f0f8ff;border: 1px dotted black;border-radius: 0.25em;box-sizing: border-box;margin-bottom: 0.5em;}#sk-container-id-1 div.sk-estimator:hover {background-color: #d4ebff;}#sk-container-id-1 div.sk-parallel-item::after {content: \"\";width: 100%;border-bottom: 1px solid gray;flex-grow: 1;}#sk-container-id-1 div.sk-label:hover label.sk-toggleable__label {background-color: #d4ebff;}#sk-container-id-1 div.sk-serial::before {content: \"\";position: absolute;border-left: 1px solid gray;box-sizing: border-box;top: 0;bottom: 0;left: 50%;z-index: 0;}#sk-container-id-1 div.sk-serial {display: flex;flex-direction: column;align-items: center;background-color: white;padding-right: 0.2em;padding-left: 0.2em;position: relative;}#sk-container-id-1 div.sk-item {position: relative;z-index: 1;}#sk-container-id-1 div.sk-parallel {display: flex;align-items: stretch;justify-content: center;background-color: white;position: relative;}#sk-container-id-1 div.sk-item::before, #sk-container-id-1 div.sk-parallel-item::before {content: \"\";position: absolute;border-left: 1px solid gray;box-sizing: border-box;top: 0;bottom: 0;left: 50%;z-index: -1;}#sk-container-id-1 div.sk-parallel-item {display: flex;flex-direction: column;z-index: 1;position: relative;background-color: white;}#sk-container-id-1 div.sk-parallel-item:first-child::after {align-self: flex-end;width: 50%;}#sk-container-id-1 div.sk-parallel-item:last-child::after {align-self: flex-start;width: 50%;}#sk-container-id-1 div.sk-parallel-item:only-child::after {width: 0;}#sk-container-id-1 div.sk-dashed-wrapped {border: 1px dashed gray;margin: 0 0.4em 0.5em 0.4em;box-sizing: border-box;padding-bottom: 0.4em;background-color: white;}#sk-container-id-1 div.sk-label label {font-family: monospace;font-weight: bold;display: inline-block;line-height: 1.2em;}#sk-container-id-1 div.sk-label-container {text-align: center;}#sk-container-id-1 div.sk-container {/* jupyter's `normalize.less` sets `[hidden] { display: none; }` but bootstrap.min.css set `[hidden] { display: none !important; }` so we also need the `!important` here to be able to override the default hidden behavior on the sphinx rendered scikit-learn.org. See: https://github.com/scikit-learn/scikit-learn/issues/21755 */display: inline-block !important;position: relative;}#sk-container-id-1 div.sk-text-repr-fallback {display: none;}</style><div id=\"sk-container-id-1\" class=\"sk-top-container\"><div class=\"sk-text-repr-fallback\"><pre>LinearRegression()</pre><b>In a Jupyter environment, please rerun this cell to show the HTML representation or trust the notebook. <br />On GitHub, the HTML representation is unable to render, please try loading this page with nbviewer.org.</b></div><div class=\"sk-container\" hidden><div class=\"sk-item\"><div class=\"sk-estimator sk-toggleable\"><input class=\"sk-toggleable__control sk-hidden--visually\" id=\"sk-estimator-id-1\" type=\"checkbox\" checked><label for=\"sk-estimator-id-1\" class=\"sk-toggleable__label sk-toggleable__label-arrow\">LinearRegression</label><div class=\"sk-toggleable__content\"><pre>LinearRegression()</pre></div></div></div></div></div>"
      ],
      "text/plain": [
       "LinearRegression()"
      ]
     },
     "execution_count": 37,
     "metadata": {},
     "output_type": "execute_result"
    }
   ],
   "source": [
    "#my_model.fit(new_bhpd_array, apd_array)\n",
    "#OR\n",
    "my_model = LinearRegression().fit(new_bhpd_array, ba_pd_array)\n",
    "my_model"
   ]
  },
  {
   "cell_type": "code",
   "execution_count": 39,
   "id": "44412949-1d45-47b2-a4af-387957091623",
   "metadata": {},
   "outputs": [
    {
     "name": "stdout",
     "output_type": "stream",
     "text": [
      "R-squared value: 0.6705833724914259\n"
     ]
    }
   ],
   "source": [
    "# Convert home team scores and away team scores into NumPy arrays\n",
    "bh_pd_array = np.array(brisbane_data[\"home_team_score\"])\n",
    "ba_pd_array = np.array(brisbane_data[\"away_team_score\"])\n",
    "\n",
    "# Calculate the difference between home team scores and away team scores\n",
    "score_difference = bh_pd_array - ba_pd_array\n",
    "\n",
    "# Reshape the Brisbane home team scores array into a 2D array with one column\n",
    "new_bhpd_array = bh_pd_array.reshape(-1, 1)\n",
    "\n",
    "# Initialize and fit a Linear Regression model to predict score difference\n",
    "my_model = LinearRegression().fit(new_bhpd_array, score_difference)\n",
    "\n",
    "# Calculate the coefficient of determination (R-squared value)\n",
    "r_sq = my_model.score(new_bhpd_array, score_difference)\n",
    "print(\"R-squared value:\", r_sq)"
   ]
  },
  {
   "cell_type": "code",
   "execution_count": 88,
   "id": "2a30fcb5-2c2e-4232-a182-b10ffe093db0",
   "metadata": {},
   "outputs": [
    {
     "name": "stdout",
     "output_type": "stream",
     "text": [
      "Predicted Score Difference: [-4.62061134]\n"
     ]
    }
   ],
   "source": [
    "# Calculate the score difference\n",
    "score_difference = brisbane_data[\"home_team_score\"] - brisbane_data[\"away_team_score\"]\n",
    "\n",
    "# Convert home team scores and score differences into NumPy arrays\n",
    "bh_pd_array = np.array(brisbane_data[\"home_team_score\"]).reshape(-1, 1)  # Reshape to a 2D array with one column\n",
    "score_difference = np.array(score_difference)\n",
    "\n",
    "# Initialize and fit a Linear Regression model to predict score difference\n",
    "my_model = LinearRegression().fit(bh_pd_array, score_difference)\n",
    "\n",
    "# Example prediction: Predict the score difference for a home team score of 90\n",
    "home_team_score = np.array([[90]])  # Reshape to a 2D array with one column\n",
    "predicted_difference = my_model.predict(home_team_score)\n",
    "\n",
    "# Print the predicted score difference\n",
    "print(\"Predicted Score Difference:\", predicted_difference)"
   ]
  },
  {
   "cell_type": "code",
   "execution_count": 40,
   "id": "f165198e-98ed-4cd3-82e3-35b52ddbcb7f",
   "metadata": {},
   "outputs": [
    {
     "name": "stdout",
     "output_type": "stream",
     "text": [
      "R-squared value for Port Adelaide: 0.7182671627012261\n"
     ]
    }
   ],
   "source": [
    "# Convert home team scores and away team scores into NumPy arrays for Port Adelaide\n",
    "ph_pd_array = np.array(portadelaide_data[\"home_team_score\"])\n",
    "pa_pd_array = np.array(portadelaide_data[\"away_team_score\"])\n",
    "\n",
    "# Calculate the difference between home team scores and away team scores for Port Adelaide\n",
    "score_difference_pa = ph_pd_array - pa_pd_array\n",
    "\n",
    "# Reshape the Port Adelaide home team scores array into a 2D array with one column\n",
    "new_phpd_array = ph_pd_array.reshape(-1, 1)\n",
    "\n",
    "# Initialize and fit a Linear Regression model to predict score difference for Port Adelaide\n",
    "my_model_pa = LinearRegression().fit(new_phpd_array, score_difference_pa)\n",
    "\n",
    "# Calculate the coefficient of determination (R-squared value) for Port Adelaide\n",
    "r_sq_pa = my_model_pa.score(new_phpd_array, score_difference_pa)\n",
    "print(\"R-squared value for Port Adelaide:\", r_sq_pa)"
   ]
  },
  {
   "cell_type": "code",
   "execution_count": 89,
   "id": "7d7d212d-991a-4585-a3c4-e50ef8611f9c",
   "metadata": {},
   "outputs": [
    {
     "name": "stdout",
     "output_type": "stream",
     "text": [
      "Predicted Score Difference: [0.96921658]\n"
     ]
    }
   ],
   "source": [
    "# Calculate the score difference\n",
    "score_difference = portadelaide_data[\"home_team_score\"] - portadelaide_data[\"away_team_score\"]\n",
    "\n",
    "# Convert home team scores and score differences into NumPy arrays\n",
    "ah_pd_array = np.array(portadelaide_data[\"home_team_score\"]).reshape(-1, 1)  # Reshape to a 2D array with one column\n",
    "score_difference = np.array(score_difference)\n",
    "\n",
    "# Initialize and fit a Linear Regression model to predict score difference\n",
    "my_model = LinearRegression().fit(ah_pd_array, score_difference)\n",
    "\n",
    "# Example prediction: Predict the score difference for a home team score of 90\n",
    "home_team_score = np.array([[90]])  # Reshape to a 2D array with one column\n",
    "predicted_difference = my_model.predict(home_team_score)\n",
    "\n",
    "# Print the predicted score difference\n",
    "print(\"Predicted Score Difference:\", predicted_difference)"
   ]
  },
  {
   "cell_type": "code",
   "execution_count": null,
   "id": "e200d65c-7065-4751-97c5-fc4375e31611",
   "metadata": {},
   "outputs": [],
   "source": []
  },
  {
   "cell_type": "code",
   "execution_count": null,
   "id": "7152b605-7a6d-456a-850d-325c1acd7782",
   "metadata": {},
   "outputs": [],
   "source": []
  }
 ],
 "metadata": {
  "kernelspec": {
   "display_name": "Python 3",
   "language": "python",
   "name": "python3"
  },
  "language_info": {
   "codemirror_mode": {
    "name": "ipython",
    "version": 3
   },
   "file_extension": ".py",
   "mimetype": "text/x-python",
   "name": "python",
   "nbconvert_exporter": "python",
   "pygments_lexer": "ipython3",
   "version": "3.8.8"
  }
 },
 "nbformat": 4,
 "nbformat_minor": 5
}
